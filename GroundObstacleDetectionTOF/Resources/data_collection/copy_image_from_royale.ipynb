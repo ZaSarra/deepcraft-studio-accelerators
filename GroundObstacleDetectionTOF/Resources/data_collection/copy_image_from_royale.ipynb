{
 "cells": [
  {
   "cell_type": "code",
   "execution_count": 3,
   "metadata": {},
   "outputs": [
    {
     "name": "stdout",
     "output_type": "stream",
     "text": [
      "Copied: royale_20250929_155500_0.ply\n",
      "Copied: royale_20250929_155500_0.png\n",
      "Copied: royale_20250929_155502_0.ply\n",
      "Copied: royale_20250929_155502_0.png\n",
      "File copying completed!\n",
      "File remove completed!\n"
     ]
    }
   ],
   "source": [
    "import os\n",
    "import shutil\n",
    "\n",
    "# Source directory where your files are located\n",
    "source_dir = r'C:\\Users\\WuShe\\Documents\\royale'  # Using raw string\n",
    "\n",
    "# Target directory where you want to copy the files\n",
    "# target_dir = 'surface/grass_surface'  # Change this to your desired target directory\n",
    "target_dir = 'OZT_378'  # Change this to your desired target directory\n",
    "\n",
    "# Create target directory if it doesn't exist\n",
    "if not os.path.exists(target_dir):\n",
    "    os.makedirs(target_dir)\n",
    "    print(f\"Created directory: {target_dir}\")\n",
    "\n",
    "# Loop through files in source directory\n",
    "for filename in os.listdir(source_dir):\n",
    "    if filename.endswith('_0.ply') or filename.endswith('_0.png'):\n",
    "        source_file = os.path.join(source_dir, filename)\n",
    "        target_file = os.path.join(target_dir, filename)\n",
    "        \n",
    "        # Copy the file\n",
    "        shutil.copy2(source_file, target_file)\n",
    "        print(f\"Copied: {filename}\")\n",
    "\n",
    "print(\"File copying completed!\")\n",
    "\n",
    "\n",
    "# Loop through files in source directory\n",
    "for filename in os.listdir(source_dir):\n",
    "    if filename.endswith('.ply') or filename.endswith('.png'):\n",
    "        file = os.path.join(source_dir, filename)\n",
    "        os.remove(file)\n",
    "\n",
    "print(\"File remove completed!\")"
   ]
  }
 ],
 "metadata": {
  "kernelspec": {
   "display_name": ".venv",
   "language": "python",
   "name": "python3"
  },
  "language_info": {
   "codemirror_mode": {
    "name": "ipython",
    "version": 3
   },
   "file_extension": ".py",
   "mimetype": "text/x-python",
   "name": "python",
   "nbconvert_exporter": "python",
   "pygments_lexer": "ipython3",
   "version": "3.10.11"
  }
 },
 "nbformat": 4,
 "nbformat_minor": 2
}
